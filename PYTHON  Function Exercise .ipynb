{
 "cells": [
  {
   "cell_type": "markdown",
   "id": "266f1974",
   "metadata": {},
   "source": [
    "# Exercise 1"
   ]
  },
  {
   "cell_type": "code",
   "execution_count": 8,
   "id": "63fc6872",
   "metadata": {},
   "outputs": [
    {
     "name": "stdout",
     "output_type": "stream",
     "text": [
      "<function my_function at 0x0000025323D9B940>\n"
     ]
    }
   ],
   "source": [
    "## Create a function named my_function .\n",
    "\n",
    "\n",
    "def my_function():\n",
    "    \n",
    "    print(\"Hello from a function \")\n",
    "    \n",
    "a = my_function\n",
    "\n",
    "print(a)"
   ]
  },
  {
   "cell_type": "markdown",
   "id": "7ee8fb4c",
   "metadata": {},
   "source": [
    "# Exercise 2"
   ]
  },
  {
   "cell_type": "code",
   "execution_count": 7,
   "id": "196427ee",
   "metadata": {},
   "outputs": [
    {
     "name": "stdout",
     "output_type": "stream",
     "text": [
      "Hello from a function\n"
     ]
    }
   ],
   "source": [
    "### Execute a function named my_function..\n",
    "\n",
    "\n",
    "def my_function():\n",
    "    print(\"Hello from a function\")\n",
    "    \n",
    "my_function()\n",
    "\n"
   ]
  },
  {
   "cell_type": "markdown",
   "id": "98c4565d",
   "metadata": {},
   "source": [
    "# Exercise 3"
   ]
  },
  {
   "cell_type": "code",
   "execution_count": 16,
   "id": "563da4ab",
   "metadata": {},
   "outputs": [],
   "source": [
    "## Inside a function with two parameters, print the first parameter.\n",
    "\n",
    "\n",
    "def demo_function(fname, lname):\n",
    "    \n",
    "    print(fname)\n",
    "    \n",
    "# demo_function(\"abhi\",'nandan')"
   ]
  },
  {
   "cell_type": "markdown",
   "id": "b0292581",
   "metadata": {},
   "source": [
    "# Exercise 4"
   ]
  },
  {
   "cell_type": "code",
   "execution_count": 19,
   "id": "7c86a513",
   "metadata": {},
   "outputs": [
    {
     "data": {
      "text/plain": [
       "11"
      ]
     },
     "execution_count": 19,
     "metadata": {},
     "output_type": "execute_result"
    }
   ],
   "source": [
    "## Let the function return the x parameter + 5.\n",
    "\n",
    "\n",
    "def my_function(x):\n",
    "  \n",
    "    return x+5\n",
    "\n",
    "my_function(6)\n"
   ]
  },
  {
   "cell_type": "markdown",
   "id": "dd5ace70",
   "metadata": {},
   "source": [
    "# Exercise 5"
   ]
  },
  {
   "cell_type": "code",
   "execution_count": 23,
   "id": "ddad264e",
   "metadata": {},
   "outputs": [
    {
     "name": "stdout",
     "output_type": "stream",
     "text": [
      "The youngest child is cab\n"
     ]
    }
   ],
   "source": [
    "##  If you do not know the number of arguments that will be passed into \n",
    "## your function, there is a prefix you can add in the function definition,\n",
    "## which prefix?\n",
    "\n",
    "\n",
    "def my_function(*kids):\n",
    "    print(\"The youngest child is \" + kids[2])\n",
    "\n",
    "    \n",
    "my_function(\"yoyo\",\"king\",\"cab\")"
   ]
  },
  {
   "cell_type": "markdown",
   "id": "50d0b1c5",
   "metadata": {},
   "source": [
    "# Exercise 6"
   ]
  },
  {
   "cell_type": "code",
   "execution_count": 25,
   "id": "17f0d20c",
   "metadata": {},
   "outputs": [
    {
     "name": "stdout",
     "output_type": "stream",
     "text": [
      "His last name is Refsnes\n"
     ]
    }
   ],
   "source": [
    "## If you do not know the number of keyword arguments that will\n",
    "## be passed into your function,\n",
    "## there is a prefix you can add in the function definition, which prefix?\n",
    "\n",
    "\n",
    "def function(**kid):\n",
    "    print(\"His last name is \" + kid[\"lname\"])\n",
    "\n",
    "function(fname = \"Tobias\", lname = \"Refsnes\")"
   ]
  },
  {
   "cell_type": "code",
   "execution_count": null,
   "id": "3488c518",
   "metadata": {},
   "outputs": [],
   "source": []
  }
 ],
 "metadata": {
  "kernelspec": {
   "display_name": "Python 3 (ipykernel)",
   "language": "python",
   "name": "python3"
  },
  "language_info": {
   "codemirror_mode": {
    "name": "ipython",
    "version": 3
   },
   "file_extension": ".py",
   "mimetype": "text/x-python",
   "name": "python",
   "nbconvert_exporter": "python",
   "pygments_lexer": "ipython3",
   "version": "3.9.13"
  }
 },
 "nbformat": 4,
 "nbformat_minor": 5
}
