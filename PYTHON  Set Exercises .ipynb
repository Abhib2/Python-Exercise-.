{
 "cells": [
  {
   "cell_type": "markdown",
   "id": "3a3d0eea",
   "metadata": {},
   "source": [
    "# Exercise 1\n"
   ]
  },
  {
   "cell_type": "code",
   "execution_count": 1,
   "id": "613191eb",
   "metadata": {},
   "outputs": [
    {
     "name": "stdout",
     "output_type": "stream",
     "text": [
      "Yes, mango is a fruits!\n"
     ]
    }
   ],
   "source": [
    "# Ckeck if \"apple\" is present in the fruits set.\n",
    "\n",
    "fruits = {\"mango\", \"banana\", \"apple\", \"cherry\"}\n",
    "\n",
    "if \"mango\" in fruits:\n",
    "    print(\"Yes, mango is a fruits!\")"
   ]
  },
  {
   "cell_type": "markdown",
   "id": "8b3d5f5e",
   "metadata": {},
   "source": [
    "# Exercise 2"
   ]
  },
  {
   "cell_type": "code",
   "execution_count": 3,
   "id": "0c3d23d1",
   "metadata": {},
   "outputs": [
    {
     "name": "stdout",
     "output_type": "stream",
     "text": [
      "{'banana', 'mango', 'cherry', 'orange', 'apple'}\n"
     ]
    }
   ],
   "source": [
    " # Use the add method to add \"orange\" to the fruits set.\n",
    "    \n",
    "fruits = {\"mango\", \"banana\", \"apple\", \"cherry\"}\n",
    "\n",
    "fruits.add(\"orange\")\n",
    "print(fruits)"
   ]
  },
  {
   "cell_type": "markdown",
   "id": "0ff4b230",
   "metadata": {},
   "source": [
    "# Exercise 3"
   ]
  },
  {
   "cell_type": "code",
   "execution_count": 8,
   "id": "4dbabeb4",
   "metadata": {},
   "outputs": [
    {
     "name": "stdout",
     "output_type": "stream",
     "text": [
      "{'mango', 'banana', 'kiwi', 'papaya', 'lemon', 'cherry', 'orange', 'apple'}\n"
     ]
    }
   ],
   "source": [
    "## Use the correct method to add multiple items (more_fruits) to the fruits set.\n",
    "\n",
    "fruits = {\"mango\", \"orange\", \"apple\", \"cherry\", \"banana\"}\n",
    "\n",
    "more_fruits = [\"kiwi\", \"papaya\", \"lemon\"]\n",
    "\n",
    "fruits.update(more_fruits)\n",
    "\n",
    "print(fruits)"
   ]
  },
  {
   "cell_type": "markdown",
   "id": "b8a00286",
   "metadata": {},
   "source": [
    "# Exercise 4"
   ]
  },
  {
   "cell_type": "code",
   "execution_count": 13,
   "id": "d3234740",
   "metadata": {},
   "outputs": [
    {
     "name": "stdout",
     "output_type": "stream",
     "text": [
      "{'mango', 'cherry', 'orange', 'apple'}\n"
     ]
    }
   ],
   "source": [
    "## Use the remove method to remove \"banana\" from the fruits set.\n",
    "\n",
    "fruits = {\"mango\", \"orange\", \"apple\", \"cherry\", \"banana\"}\n",
    "\n",
    "fruits.remove(\"banana\")\n",
    "\n",
    "print(fruits)"
   ]
  },
  {
   "cell_type": "markdown",
   "id": "3b3df84a",
   "metadata": {},
   "source": [
    "# Exercise 5"
   ]
  },
  {
   "cell_type": "code",
   "execution_count": 15,
   "id": "d93368aa",
   "metadata": {},
   "outputs": [
    {
     "name": "stdout",
     "output_type": "stream",
     "text": [
      "{'mango', 'cherry', 'orange', 'apple'}\n"
     ]
    }
   ],
   "source": [
    "## Use the discard method to remove \"banana\" from the fruits set.\n",
    "\n",
    "fruits = {\"mango\", \"orange\", \"apple\", \"cherry\", \"banana\"}\n",
    "\n",
    "fruits.discard(\"banana\")\n",
    "\n",
    "print(fruits)"
   ]
  },
  {
   "cell_type": "code",
   "execution_count": null,
   "id": "6c2f584d",
   "metadata": {},
   "outputs": [],
   "source": []
  }
 ],
 "metadata": {
  "kernelspec": {
   "display_name": "Python 3 (ipykernel)",
   "language": "python",
   "name": "python3"
  },
  "language_info": {
   "codemirror_mode": {
    "name": "ipython",
    "version": 3
   },
   "file_extension": ".py",
   "mimetype": "text/x-python",
   "name": "python",
   "nbconvert_exporter": "python",
   "pygments_lexer": "ipython3",
   "version": "3.9.13"
  }
 },
 "nbformat": 4,
 "nbformat_minor": 5
}
