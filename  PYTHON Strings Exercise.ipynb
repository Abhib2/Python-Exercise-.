{
 "cells": [
  {
   "cell_type": "markdown",
   "id": "1aa3f702",
   "metadata": {},
   "source": [
    "# Exercise 1"
   ]
  },
  {
   "cell_type": "code",
   "execution_count": 28,
   "id": "b8f2279c",
   "metadata": {},
   "outputs": [
    {
     "name": "stdout",
     "output_type": "stream",
     "text": [
      "11\n"
     ]
    }
   ],
   "source": [
    "# Use the len method to print the length of the string.\n",
    "\n",
    "\n",
    "x = \"Hello World\"\n",
    "print(len(x))"
   ]
  },
  {
   "cell_type": "markdown",
   "id": "83019f2f",
   "metadata": {},
   "source": [
    "# Exercise 1"
   ]
  },
  {
   "cell_type": "code",
   "execution_count": 30,
   "id": "a56474a3",
   "metadata": {},
   "outputs": [
    {
     "name": "stdout",
     "output_type": "stream",
     "text": [
      "H\n"
     ]
    }
   ],
   "source": [
    "##  Get the first character of the string txt.\n",
    "\n",
    "text = \"Hello World\"\n",
    "x = text[0]\n",
    "print(x)\n"
   ]
  },
  {
   "cell_type": "markdown",
   "id": "2d3a036e",
   "metadata": {},
   "source": [
    "# Exercise 3"
   ]
  },
  {
   "cell_type": "code",
   "execution_count": 7,
   "id": "73d25e06",
   "metadata": {},
   "outputs": [
    {
     "name": "stdout",
     "output_type": "stream",
     "text": [
      "llo\n"
     ]
    }
   ],
   "source": [
    "#  Get the characters from index 2 to index 4 (llo).\n",
    "\n",
    "txt = \"Hello World\"\n",
    "\n",
    "x = txt[2:5]\n",
    "print(x)"
   ]
  },
  {
   "cell_type": "markdown",
   "id": "8456379b",
   "metadata": {},
   "source": [
    "# Exercise 4"
   ]
  },
  {
   "cell_type": "code",
   "execution_count": 17,
   "id": "1e7240cc",
   "metadata": {},
   "outputs": [
    {
     "name": "stdout",
     "output_type": "stream",
     "text": [
      "Abhinandan Vishvkarma\n"
     ]
    }
   ],
   "source": [
    "#   Return the string without any whitespace at the beginning or the end.\n",
    "\n",
    "\n",
    "text = \"Abhinandan Vishvkarma\"\n",
    "# x = text[0:22]\n",
    "x = text.strip()\n",
    "print(x)\n"
   ]
  },
  {
   "cell_type": "markdown",
   "id": "97e7eb22",
   "metadata": {},
   "source": [
    "# Exercise 5"
   ]
  },
  {
   "cell_type": "code",
   "execution_count": 19,
   "id": "8cf59ccf",
   "metadata": {},
   "outputs": [
    {
     "name": "stdout",
     "output_type": "stream",
     "text": [
      "ABHINANDAN VISHVKARMA\n"
     ]
    }
   ],
   "source": [
    "#  Convert the value of txt to upper case.\n",
    "\n",
    "text = \"Abhinandan Vishvkarma\"\n",
    "\n",
    "text = text.upper()\n",
    "\n",
    "print(text)"
   ]
  },
  {
   "cell_type": "markdown",
   "id": "078a88ac",
   "metadata": {},
   "source": [
    "# Exercise 6"
   ]
  },
  {
   "cell_type": "code",
   "execution_count": 21,
   "id": "335d52fa",
   "metadata": {},
   "outputs": [
    {
     "name": "stdout",
     "output_type": "stream",
     "text": [
      "hello world\n"
     ]
    }
   ],
   "source": [
    "#   Convert the value of txt to lower case.\n",
    "\n",
    "txt = \"Hello World\"\n",
    "txt = txt.lower()\n",
    "print(txt)\n"
   ]
  },
  {
   "cell_type": "markdown",
   "id": "996a0352",
   "metadata": {},
   "source": [
    "# Exercise 7"
   ]
  },
  {
   "cell_type": "code",
   "execution_count": 23,
   "id": "6a1cbb32",
   "metadata": {},
   "outputs": [
    {
     "name": "stdout",
     "output_type": "stream",
     "text": [
      "abhinandan Vishvkarma\n"
     ]
    }
   ],
   "source": [
    "\n",
    "#  Replace the character A with a a.\n",
    "\n",
    "name = 'Abhinandan Vishvkarma'\n",
    "naam = name.replace(\"A\",\"a\")\n",
    "print(naam)"
   ]
  },
  {
   "cell_type": "markdown",
   "id": "3658f40b",
   "metadata": {},
   "source": [
    "# Exercise 8"
   ]
  },
  {
   "cell_type": "code",
   "execution_count": 26,
   "id": "402a7538",
   "metadata": {},
   "outputs": [
    {
     "name": "stdout",
     "output_type": "stream",
     "text": [
      "My name is John, and I am 36. \n"
     ]
    }
   ],
   "source": [
    "##   Insert the correct syntax to add a placeholder for the age parameter.\n",
    "\n",
    "\n",
    "age = 36\n",
    "txt = \"My name is John, and I am {}. \"\n",
    "print(txt.format(age))"
   ]
  }
 ],
 "metadata": {
  "kernelspec": {
   "display_name": "Python 3 (ipykernel)",
   "language": "python",
   "name": "python3"
  },
  "language_info": {
   "codemirror_mode": {
    "name": "ipython",
    "version": 3
   },
   "file_extension": ".py",
   "mimetype": "text/x-python",
   "name": "python",
   "nbconvert_exporter": "python",
   "pygments_lexer": "ipython3",
   "version": "3.9.13"
  }
 },
 "nbformat": 4,
 "nbformat_minor": 5
}
