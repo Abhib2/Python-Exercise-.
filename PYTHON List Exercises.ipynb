{
 "cells": [
  {
   "cell_type": "markdown",
   "id": "ae52828c",
   "metadata": {},
   "source": [
    "# Exercise 1"
   ]
  },
  {
   "cell_type": "code",
   "execution_count": 10,
   "id": "9f8af9da",
   "metadata": {},
   "outputs": [
    {
     "name": "stdout",
     "output_type": "stream",
     "text": [
      "banana\n"
     ]
    }
   ],
   "source": [
    "# Print the second item in the fruits list.\n",
    "\n",
    "\n",
    "fruits = [\"apple\", \"banana\", \"mango\"]\n",
    "\n",
    "print(fruits[1])\n"
   ]
  },
  {
   "cell_type": "markdown",
   "id": "a8cb2054",
   "metadata": {},
   "source": [
    "# Exercise 2\n"
   ]
  },
  {
   "cell_type": "code",
   "execution_count": 14,
   "id": "ca7b7a4d",
   "metadata": {},
   "outputs": [
    {
     "name": "stdout",
     "output_type": "stream",
     "text": [
      "['kiwi', 'lemon', 'banana', 'grapes']\n"
     ]
    }
   ],
   "source": [
    "#   Change the value from \"apple\" to \"kiwi\", in the fruits list.\n",
    "\n",
    "fruits = [\"mango\", \"lemon\", \"banana\", \"grapes\"]\n",
    "\n",
    "fruits[0] = \"kiwi\"\n",
    "\n",
    "print (fruits)"
   ]
  },
  {
   "cell_type": "markdown",
   "id": "7c831b4e",
   "metadata": {},
   "source": [
    "# Exercise 3"
   ]
  },
  {
   "cell_type": "code",
   "execution_count": 18,
   "id": "6ad72878",
   "metadata": {},
   "outputs": [
    {
     "name": "stdout",
     "output_type": "stream",
     "text": [
      "['mango', 'lemon', 'banana', 'grapes', 'orange']\n"
     ]
    }
   ],
   "source": [
    "#   Use the append Method to add \"orang to the fruits list.\"\n",
    "\n",
    "fruits = [\"mango\", \"lemon\", \"banana\", \"grapes\"]\n",
    "\n",
    "fruits.append(\"orange\")\n",
    "\n",
    "print(fruits)\n"
   ]
  },
  {
   "cell_type": "markdown",
   "id": "400b202e",
   "metadata": {},
   "source": [
    "# Exercise 4"
   ]
  },
  {
   "cell_type": "code",
   "execution_count": 23,
   "id": "24f58b43",
   "metadata": {},
   "outputs": [
    {
     "name": "stdout",
     "output_type": "stream",
     "text": [
      "['mango', 'lemon', 'banana', 'grapes']\n"
     ]
    }
   ],
   "source": [
    "# Use the insert method to add \"lemon\"  as the second item in the fruits list.\n",
    "\n",
    "fruits = [\"mango\", \"banana\", \"grapes\",]\n",
    "\n",
    "fruits.insert(1,\"lemon\")\n",
    "\n",
    "print(fruits)"
   ]
  },
  {
   "cell_type": "markdown",
   "id": "ae6edd1f",
   "metadata": {},
   "source": [
    "# Exercise 5"
   ]
  },
  {
   "cell_type": "code",
   "execution_count": 29,
   "id": "39aa6d86",
   "metadata": {},
   "outputs": [
    {
     "name": "stdout",
     "output_type": "stream",
     "text": [
      "['apple', 'cherry']\n"
     ]
    }
   ],
   "source": [
    "#   Use the remove method to remove \"banana\" from the fruits list.\n",
    "\n",
    "fruits = [\"apple\", \"banana\", \"cherry\"]\n",
    "fruits.remove(\"banana\")\n",
    "\n",
    "print(fruits)\n"
   ]
  },
  {
   "cell_type": "markdown",
   "id": "8b880a14",
   "metadata": {},
   "source": [
    "# Exercise 6"
   ]
  },
  {
   "cell_type": "code",
   "execution_count": 31,
   "id": "25cb1a55",
   "metadata": {},
   "outputs": [
    {
     "name": "stdout",
     "output_type": "stream",
     "text": [
      "cherry\n"
     ]
    }
   ],
   "source": [
    "## Use negative indexing to print the last item in the list.\n",
    "\n",
    "fruits = [\"apple\", \"banana\", \"cherry\"]\n",
    "print(fruits[-1])\n"
   ]
  },
  {
   "cell_type": "markdown",
   "id": "87533c74",
   "metadata": {},
   "source": [
    "# Exercise 7"
   ]
  },
  {
   "cell_type": "code",
   "execution_count": 35,
   "id": "a03dcc3d",
   "metadata": {},
   "outputs": [
    {
     "name": "stdout",
     "output_type": "stream",
     "text": [
      "['cherry', 'orange', 'kiwi']\n"
     ]
    }
   ],
   "source": [
    "#  Use a range of indexes to print the third, fourth, and fifth item in the list.\n",
    "\n",
    "\n",
    "fruits = [\"apple\", \"banana\", \"cherry\", \"orange\", \"kiwi\", \"melon\", \"mango\"]\n",
    "\n",
    "print(fruits[2:5])"
   ]
  },
  {
   "cell_type": "markdown",
   "id": "ca229c5c",
   "metadata": {},
   "source": [
    "# Exercise 8"
   ]
  },
  {
   "cell_type": "code",
   "execution_count": 37,
   "id": "de508e4b",
   "metadata": {},
   "outputs": [
    {
     "name": "stdout",
     "output_type": "stream",
     "text": [
      "3\n"
     ]
    }
   ],
   "source": [
    "# Use the correct syntex to print the number of items in the list.\n",
    "\n",
    "fruits = [\"mango\", \"banana\", \"grapes\",]\n",
    "\n",
    "print(len(fruits))"
   ]
  },
  {
   "cell_type": "code",
   "execution_count": null,
   "id": "b696dea5",
   "metadata": {},
   "outputs": [],
   "source": []
  }
 ],
 "metadata": {
  "kernelspec": {
   "display_name": "Python 3 (ipykernel)",
   "language": "python",
   "name": "python3"
  },
  "language_info": {
   "codemirror_mode": {
    "name": "ipython",
    "version": 3
   },
   "file_extension": ".py",
   "mimetype": "text/x-python",
   "name": "python",
   "nbconvert_exporter": "python",
   "pygments_lexer": "ipython3",
   "version": "3.9.13"
  }
 },
 "nbformat": 4,
 "nbformat_minor": 5
}
