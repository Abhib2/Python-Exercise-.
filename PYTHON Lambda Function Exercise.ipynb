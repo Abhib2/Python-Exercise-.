{
 "cells": [
  {
   "cell_type": "markdown",
   "id": "dbda9cc8",
   "metadata": {},
   "source": [
    "# Exercise 1"
   ]
  },
  {
   "cell_type": "code",
   "execution_count": 21,
   "id": "27f95610",
   "metadata": {},
   "outputs": [
    {
     "name": "stdout",
     "output_type": "stream",
     "text": [
      "a\n",
      "10\n"
     ]
    }
   ],
   "source": [
    "## Create a lambda function that takes one Parameter (a) return it.\n",
    "\n",
    "x = lambda a : a\n",
    "\n",
    "print(x(\"a\"))\n",
    "\n",
    "print(x(10))\n",
    "\n"
   ]
  },
  {
   "cell_type": "markdown",
   "id": "359a1ec6",
   "metadata": {},
   "source": [
    "# Exercise 2"
   ]
  },
  {
   "cell_type": "code",
   "execution_count": 5,
   "id": "c0df96e7",
   "metadata": {},
   "outputs": [
    {
     "name": "stdout",
     "output_type": "stream",
     "text": [
      "Hello World\n"
     ]
    }
   ],
   "source": [
    "## Print simple lambda function.\n",
    "\n",
    "\n",
    "demo1 =lambda : print(\"Hello World\")\n",
    "\n",
    "demo1()\n",
    "\n"
   ]
  },
  {
   "cell_type": "markdown",
   "id": "2611477e",
   "metadata": {},
   "source": [
    "# Exercise 3"
   ]
  },
  {
   "cell_type": "code",
   "execution_count": 6,
   "id": "2ca756e0",
   "metadata": {},
   "outputs": [
    {
     "name": "stdout",
     "output_type": "stream",
     "text": [
      "my name is Abhinandan\n"
     ]
    }
   ],
   "source": [
    "## Write a program python lambda function with an Argument..\n",
    "\n",
    "first_user = lambda name : print (\"my name is\", name)\n",
    "\n",
    "first_user(\"Abhinandan\")"
   ]
  },
  {
   "cell_type": "markdown",
   "id": "a6b0704b",
   "metadata": {},
   "source": [
    "# Exercise 4"
   ]
  },
  {
   "cell_type": "code",
   "execution_count": 15,
   "id": "51fb3ff1",
   "metadata": {},
   "outputs": [
    {
     "name": "stdout",
     "output_type": "stream",
     "text": [
      "9\n"
     ]
    }
   ],
   "source": [
    "## Write a program in python square any number .\n",
    "\n",
    "\n",
    "square = lambda x:  x**2\n",
    "print(square(3))"
   ]
  },
  {
   "cell_type": "markdown",
   "id": "e05516fe",
   "metadata": {},
   "source": [
    "# Exercise 5"
   ]
  },
  {
   "cell_type": "code",
   "execution_count": 27,
   "id": "f1b2f6dc",
   "metadata": {},
   "outputs": [
    {
     "name": "stdout",
     "output_type": "stream",
     "text": [
      "26\n"
     ]
    }
   ],
   "source": [
    "## Write a Program in python Lambda function with multiple arguments..\n",
    "\n",
    "sum = lambda x, y: x + y\n",
    "\n",
    "print(sum(22,4))"
   ]
  },
  {
   "cell_type": "markdown",
   "id": "09915a38",
   "metadata": {},
   "source": [
    "# Exercise 6"
   ]
  },
  {
   "cell_type": "code",
   "execution_count": 31,
   "id": "201b9570",
   "metadata": {},
   "outputs": [
    {
     "name": "stdout",
     "output_type": "stream",
     "text": [
      "20\n"
     ]
    }
   ],
   "source": [
    "## Write a Program in python Using a lambda function inside another function..\n",
    "\n",
    "def fun(n):\n",
    "    return lambda x: x * n\n",
    "\n",
    "multiply = fun(4)\n",
    "\n",
    "print(multiply(5))"
   ]
  },
  {
   "cell_type": "code",
   "execution_count": null,
   "id": "dc5e56d3",
   "metadata": {},
   "outputs": [],
   "source": []
  }
 ],
 "metadata": {
  "kernelspec": {
   "display_name": "Python 3 (ipykernel)",
   "language": "python",
   "name": "python3"
  },
  "language_info": {
   "codemirror_mode": {
    "name": "ipython",
    "version": 3
   },
   "file_extension": ".py",
   "mimetype": "text/x-python",
   "name": "python",
   "nbconvert_exporter": "python",
   "pygments_lexer": "ipython3",
   "version": "3.9.13"
  }
 },
 "nbformat": 4,
 "nbformat_minor": 5
}
