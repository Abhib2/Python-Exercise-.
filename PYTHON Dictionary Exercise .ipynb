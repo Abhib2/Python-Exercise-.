{
 "cells": [
  {
   "cell_type": "markdown",
   "id": "c9f70953",
   "metadata": {},
   "source": [
    "# Exercise 1"
   ]
  },
  {
   "cell_type": "code",
   "execution_count": 2,
   "id": "4a70c404",
   "metadata": {},
   "outputs": [
    {
     "name": "stdout",
     "output_type": "stream",
     "text": [
      "Thar\n"
     ]
    }
   ],
   "source": [
    "## Use the get method to print the value of the \"model\" key of the car dictionary.\n",
    "\n",
    "\n",
    "car = {\n",
    "    \"brand\": \"Mahendra\",\n",
    "    \"model\": \"Thar\",\n",
    "    \"year\" : 1990\n",
    "}\n",
    "\n",
    "print(car.get(\"model\"))\n"
   ]
  },
  {
   "cell_type": "markdown",
   "id": "a1b10178",
   "metadata": {},
   "source": [
    "# Exercise 2"
   ]
  },
  {
   "cell_type": "code",
   "execution_count": 5,
   "id": "b441dc14",
   "metadata": {},
   "outputs": [
    {
     "name": "stdout",
     "output_type": "stream",
     "text": [
      "{'brand': 'Mahendra', 'model': 'thar', 'year': 2020}\n"
     ]
    }
   ],
   "source": [
    "## Change the \"year\" value from 1964 to 2020.\n",
    "\n",
    "car = {\n",
    "    \"brand\": \"Mahendra\",\n",
    "    \"model\": \"thar\",\n",
    "    \"year\": 1990\n",
    "}\n",
    "car[\"year\"] = 2020\n",
    "\n",
    "print(car)\n"
   ]
  },
  {
   "cell_type": "markdown",
   "id": "14d187ad",
   "metadata": {},
   "source": [
    "# Exercise 3"
   ]
  },
  {
   "cell_type": "code",
   "execution_count": null,
   "id": "ea708908",
   "metadata": {},
   "outputs": [],
   "source": [
    "# Add the key/value pair \"color\" : \"red\" to the car dictionary.\n",
    "\n",
    "\n",
    "car =\t{\n",
    "  \"brand\": \"Ford\",\n",
    "  \"model\": \"Mustang\",\n",
    "  \"year\": 1964\n",
    "}\n",
    "car[\"color\"]=\"red\"\n",
    "\n",
    "print(car)"
   ]
  },
  {
   "cell_type": "markdown",
   "id": "db8ced64",
   "metadata": {},
   "source": [
    "# Exercise 4"
   ]
  },
  {
   "cell_type": "code",
   "execution_count": 9,
   "id": "c2675664",
   "metadata": {},
   "outputs": [
    {
     "name": "stdout",
     "output_type": "stream",
     "text": [
      "{'brand': 'Ford', 'year': 1964}\n"
     ]
    }
   ],
   "source": [
    "## Use the pop method to remove \"model\" from the car dictionary.\n",
    "\n",
    "car =\t{\n",
    "  \"brand\": \"Ford\",\n",
    "  \"model\": \"Mustang\",\n",
    "  \"year\": 1964\n",
    "}\n",
    "\n",
    "car.pop(\"model\")\n",
    "\n",
    "print(car)"
   ]
  },
  {
   "cell_type": "markdown",
   "id": "0cab47dd",
   "metadata": {},
   "source": [
    "# Exercise 5"
   ]
  },
  {
   "cell_type": "code",
   "execution_count": 11,
   "id": "906ae217",
   "metadata": {},
   "outputs": [
    {
     "name": "stdout",
     "output_type": "stream",
     "text": [
      "{}\n"
     ]
    }
   ],
   "source": [
    "## Use the clear method to empty the car dictionary.\n",
    "\n",
    "\n",
    "car =\t{\n",
    "  \"brand\": \"Ford\",\n",
    "  \"model\": \"Mustang\",\n",
    "  \"year\": 1964\n",
    "}\n",
    "\n",
    "car.clear()\n",
    "\n",
    "print(car)"
   ]
  },
  {
   "cell_type": "code",
   "execution_count": null,
   "id": "8a28a7da",
   "metadata": {},
   "outputs": [],
   "source": []
  }
 ],
 "metadata": {
  "kernelspec": {
   "display_name": "Python 3 (ipykernel)",
   "language": "python",
   "name": "python3"
  },
  "language_info": {
   "codemirror_mode": {
    "name": "ipython",
    "version": 3
   },
   "file_extension": ".py",
   "mimetype": "text/x-python",
   "name": "python",
   "nbconvert_exporter": "python",
   "pygments_lexer": "ipython3",
   "version": "3.9.13"
  }
 },
 "nbformat": 4,
 "nbformat_minor": 5
}
