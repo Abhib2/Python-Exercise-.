{
 "cells": [
  {
   "cell_type": "markdown",
   "id": "b01a2b5d",
   "metadata": {},
   "source": [
    "# Exercise 1"
   ]
  },
  {
   "cell_type": "code",
   "execution_count": 1,
   "id": "69371f8a",
   "metadata": {},
   "outputs": [
    {
     "name": "stdout",
     "output_type": "stream",
     "text": [
      "True\n"
     ]
    }
   ],
   "source": [
    "#  The statement below would print a Boolean value, which one?\n",
    "\n",
    "\n",
    "print(10 > 9)"
   ]
  },
  {
   "cell_type": "markdown",
   "id": "1a80e835",
   "metadata": {},
   "source": [
    "# Exercise 2"
   ]
  },
  {
   "cell_type": "code",
   "execution_count": 2,
   "id": "d5d9cff2",
   "metadata": {},
   "outputs": [
    {
     "name": "stdout",
     "output_type": "stream",
     "text": [
      "False\n"
     ]
    }
   ],
   "source": [
    "##  The statement below would print a Boolean value, which one?\n",
    "\n",
    "\n",
    "print(10 == 9)\n",
    "\n",
    "\n"
   ]
  },
  {
   "cell_type": "markdown",
   "id": "dcbe6ab1",
   "metadata": {},
   "source": [
    "# Exercise 3"
   ]
  },
  {
   "cell_type": "code",
   "execution_count": 3,
   "id": "b0a7db31",
   "metadata": {},
   "outputs": [
    {
     "name": "stdout",
     "output_type": "stream",
     "text": [
      "False\n"
     ]
    }
   ],
   "source": [
    "## The statement below would print a Boolean value, which one?\n",
    "\n",
    "\n",
    "print(10 < 9)"
   ]
  },
  {
   "cell_type": "markdown",
   "id": "154890dd",
   "metadata": {},
   "source": [
    "# Exercise 4"
   ]
  },
  {
   "cell_type": "code",
   "execution_count": 4,
   "id": "bd80b633",
   "metadata": {
    "scrolled": true
   },
   "outputs": [
    {
     "name": "stdout",
     "output_type": "stream",
     "text": [
      "Object `one` not found.\n",
      "True\n"
     ]
    }
   ],
   "source": [
    "The statement below would print a Boolean value, which one?\n",
    "\n",
    "\n",
    "print(bool(\"abc\"))\n",
    "\n"
   ]
  },
  {
   "cell_type": "markdown",
   "id": "e4a8d9d6",
   "metadata": {},
   "source": [
    "# Exercise 5"
   ]
  },
  {
   "cell_type": "code",
   "execution_count": 5,
   "id": "c4084f42",
   "metadata": {},
   "outputs": [
    {
     "name": "stdout",
     "output_type": "stream",
     "text": [
      "False\n"
     ]
    }
   ],
   "source": [
    "#  The statement below would print a Boolean value, which one?\n",
    "\n",
    "\n",
    "print(bool(0))\n",
    "\n",
    "\n"
   ]
  }
 ],
 "metadata": {
  "kernelspec": {
   "display_name": "Python 3 (ipykernel)",
   "language": "python",
   "name": "python3"
  },
  "language_info": {
   "codemirror_mode": {
    "name": "ipython",
    "version": 3
   },
   "file_extension": ".py",
   "mimetype": "text/x-python",
   "name": "python",
   "nbconvert_exporter": "python",
   "pygments_lexer": "ipython3",
   "version": "3.9.13"
  }
 },
 "nbformat": 4,
 "nbformat_minor": 5
}
